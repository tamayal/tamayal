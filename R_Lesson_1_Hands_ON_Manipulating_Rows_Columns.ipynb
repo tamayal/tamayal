{
 "cells": [
  {
   "cell_type": "code",
   "execution_count": null,
   "id": "613cb0fb-015a-487a-819e-bb997d5a004b",
   "metadata": {},
   "outputs": [],
   "source": [
    "library(\"tidyr\")\n"
   ]
  }
 ],
 "metadata": {
  "kernelspec": {
   "display_name": "R",
   "language": "R",
   "name": "ir"
  },
  "language_info": {
   "codemirror_mode": "r",
   "file_extension": ".r",
   "mimetype": "text/x-r-source",
   "name": "R",
   "pygments_lexer": "r",
   "version": "4.2.0"
  }
 },
 "nbformat": 4,
 "nbformat_minor": 5
}
